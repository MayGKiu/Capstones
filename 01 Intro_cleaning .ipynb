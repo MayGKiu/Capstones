{
 "cells": [
  {
   "cell_type": "markdown",
   "id": "500f3ade-34b4-481c-b098-098c7e5bccfb",
   "metadata": {},
   "source": [
    "### Predictive analysis of YouTube trending videos using Machine Learning "
   ]
  },
  {
   "cell_type": "markdown",
   "id": "e79c2a65-863d-4f70-996a-14c4eaa65a7f",
   "metadata": {},
   "source": [
    "#### 1. Introduction"
   ]
  },
  {
   "cell_type": "markdown",
   "id": "da434f97-00d5-47e0-be3a-49f5c1e990a5",
   "metadata": {},
   "source": [
    "Youtube is the largest media platform for sharing the video nowsaday. YouTube offers interactive video features for public and content creators such as Views, which denotes the total number of viewership gathered by the particular video till date. Generally, the number of views determines the popularity of videos and it takes a certain amount of time for a video to become popular. "
   ]
  },
  {
   "cell_type": "markdown",
   "id": "07927672-050c-4de2-bfad-adab1ce4f572",
   "metadata": {},
   "source": [
    "#### 2. Problem statement"
   ]
  },
  {
   "cell_type": "markdown",
   "id": "979d067c-df86-4a56-95ae-1038e04fa303",
   "metadata": {},
   "source": [
    "This purpose of the project is to assist if you are:\n",
    "\n",
    "a) A youtuber who wants to make trending videos\n",
    "\n",
    "b) An advertiser who wants to know the best video to put advertisements on before they become trending video\n"
   ]
  },
  {
   "cell_type": "markdown",
   "id": "b1acd8e3-5378-47ea-a925-bdb455973ee9",
   "metadata": {},
   "source": [
    "There will be some studies of the followings:\n",
    "\n",
    "1. To perform analysis on correlation between features to determine how interactive video features helps a video trend on YouTube? is having a large number of views required for a video to trend? how important is the Correlation between features? \n",
    "\n",
    "2. To compare analysis of ML classifiers for predicting YouTube trending video’s lifecycle using Random Forest,Support Vector Machine, Decision Tree, Logistic Regression and Gaussian Naïve Bayes classifier to determine which classifier is best suited for forecasting."
   ]
  },
  {
   "cell_type": "markdown",
   "id": "0235d0f7-23a5-4a57-be8d-b402d055dcc7",
   "metadata": {},
   "source": [
    "#### 3. Data description"
   ]
  },
  {
   "cell_type": "markdown",
   "id": "57d18dff-559c-4463-8b7b-9325cae7ef0e",
   "metadata": {},
   "source": [
    "The dataset is obtained from Kaggle [Source](https://www.kaggle.com/rsrishav/youtube-trending-video-dataset?select=BR_youtube_trending_data.csv).\n",
    "\n",
    "Data is included for the CA,GB and US regions ( Canada,Great Britain and USA respectively), with up to 200 listed trending videos per day. Data includes the video title, channel title, publish time, tags, views, likes and dislikes, description, and comment count."
   ]
  },
  {
   "cell_type": "markdown",
   "id": "baa8a24b-1dc6-4bf5-9bf5-ea418f0ccb69",
   "metadata": {},
   "source": [
    "File type: csv\n",
    "\n",
    "* video_id: Uniquely identifies each video\n",
    "* published_at: Date and Time of video published\n",
    "* categoryId: Id of category the video belongs to\n",
    "* trending_date: Date and time when the video got to Trending\n",
    "* view_count: Number of views (cumulative)\n",
    "* likes: Number of Likes(cumulative)\n",
    "* dislikes: Number of dislikes(cumulative)\n",
    "* comment_count: Number of comments(cumulative)\n",
    "* country: Country in which the video was trending\n",
    "* description: Description of video by the creator\n",
    "* tags: Tags of the video by the creator\n",
    "* title: Title of the video\n",
    "* channelTitle: Channel Title of the video\n",
    "* thumbnail_link:link for thumbnails\n",
    "* comments_disabled: boolean value that defines if viewer can comment\n",
    "* ratings_disabled: boolean value that defines if viewer can rate through likes and dislikes\n",
    "* channelId: uniquely defines the channel the video is coming from"
   ]
  },
  {
   "cell_type": "markdown",
   "id": "4997f7ee-cd24-4584-9257-173a2583cc5b",
   "metadata": {},
   "source": [
    "File type: json\n",
    "\n",
    "* id: Id of category the video belongs to\n",
    "* name: Respective category names of category ids"
   ]
  },
  {
   "cell_type": "markdown",
   "id": "2647d7f0-6860-44ad-bf1f-a4430b6a547d",
   "metadata": {},
   "source": [
    "#### Importing libraries and data"
   ]
  },
  {
   "cell_type": "code",
   "execution_count": 32,
   "id": "a89cc73a-dcc3-4e30-8f9a-8c0cfbbb2c31",
   "metadata": {},
   "outputs": [
    {
     "name": "stderr",
     "output_type": "stream",
     "text": [
      "[nltk_data] Downloading package stopwords to\n",
      "[nltk_data]     C:\\Users\\rimay\\AppData\\Roaming\\nltk_data...\n",
      "[nltk_data]   Package stopwords is already up-to-date!\n"
     ]
    }
   ],
   "source": [
    "# import libraries\n",
    "\n",
    "# Basic libraries\n",
    "import numpy as np\n",
    "import pandas as pd\n",
    "\n",
    "# Data Visualization\n",
    "import matplotlib.pyplot as plt\n",
    "import seaborn as sns\n",
    "%config InlineBackend.figure_format = 'retina'\n",
    "%matplotlib inline\n",
    "\n",
    "\n",
    "#NLTK libraries\n",
    "import re\n",
    "import string\n",
    "import nltk\n",
    "nltk.download(\"stopwords\")\n",
    "from nltk.corpus import stopwords\n",
    "from nltk.tokenize import sent_tokenize, word_tokenize, RegexpTokenizer\n",
    "from nltk.stem import WordNetLemmatizer\n",
    "\n",
    "\n",
    "#Ignore warnings\n",
    "import warnings\n",
    "warnings.filterwarnings('ignore')\n"
   ]
  },
  {
   "cell_type": "code",
   "execution_count": 33,
   "id": "fb810078-cbd8-41df-8401-92c6143879dd",
   "metadata": {
    "scrolled": true,
    "tags": []
   },
   "outputs": [
    {
     "data": {
      "text/html": [
       "<div>\n",
       "<style scoped>\n",
       "    .dataframe tbody tr th:only-of-type {\n",
       "        vertical-align: middle;\n",
       "    }\n",
       "\n",
       "    .dataframe tbody tr th {\n",
       "        vertical-align: top;\n",
       "    }\n",
       "\n",
       "    .dataframe thead th {\n",
       "        text-align: right;\n",
       "    }\n",
       "</style>\n",
       "<table border=\"1\" class=\"dataframe\">\n",
       "  <thead>\n",
       "    <tr style=\"text-align: right;\">\n",
       "      <th></th>\n",
       "      <th>video_id</th>\n",
       "      <th>title</th>\n",
       "      <th>publishedAt</th>\n",
       "      <th>channelId</th>\n",
       "      <th>channelTitle</th>\n",
       "      <th>categoryId</th>\n",
       "      <th>trending_date</th>\n",
       "      <th>tags</th>\n",
       "      <th>view_count</th>\n",
       "      <th>likes</th>\n",
       "      <th>dislikes</th>\n",
       "      <th>comment_count</th>\n",
       "      <th>thumbnail_link</th>\n",
       "      <th>comments_disabled</th>\n",
       "      <th>ratings_disabled</th>\n",
       "      <th>description</th>\n",
       "    </tr>\n",
       "  </thead>\n",
       "  <tbody>\n",
       "    <tr>\n",
       "      <th>0</th>\n",
       "      <td>3C66w5Z0ixs</td>\n",
       "      <td>I ASKED HER TO BE MY GIRLFRIEND...</td>\n",
       "      <td>2020-08-11T19:20:14Z</td>\n",
       "      <td>UCvtRTOMP2TqYqu51xNrqAzg</td>\n",
       "      <td>Brawadis</td>\n",
       "      <td>22</td>\n",
       "      <td>2020-08-12T00:00:00Z</td>\n",
       "      <td>brawadis|prank|basketball|skits|ghost|funny vi...</td>\n",
       "      <td>1514614</td>\n",
       "      <td>156908</td>\n",
       "      <td>5855</td>\n",
       "      <td>35313</td>\n",
       "      <td>https://i.ytimg.com/vi/3C66w5Z0ixs/default.jpg</td>\n",
       "      <td>False</td>\n",
       "      <td>False</td>\n",
       "      <td>SUBSCRIBE to BRAWADIS ▶ http://bit.ly/Subscrib...</td>\n",
       "    </tr>\n",
       "  </tbody>\n",
       "</table>\n",
       "</div>"
      ],
      "text/plain": [
       "      video_id                               title           publishedAt  \\\n",
       "0  3C66w5Z0ixs  I ASKED HER TO BE MY GIRLFRIEND...  2020-08-11T19:20:14Z   \n",
       "\n",
       "                  channelId channelTitle  categoryId         trending_date  \\\n",
       "0  UCvtRTOMP2TqYqu51xNrqAzg     Brawadis          22  2020-08-12T00:00:00Z   \n",
       "\n",
       "                                                tags  view_count   likes  \\\n",
       "0  brawadis|prank|basketball|skits|ghost|funny vi...     1514614  156908   \n",
       "\n",
       "   dislikes  comment_count                                  thumbnail_link  \\\n",
       "0      5855          35313  https://i.ytimg.com/vi/3C66w5Z0ixs/default.jpg   \n",
       "\n",
       "   comments_disabled  ratings_disabled  \\\n",
       "0              False             False   \n",
       "\n",
       "                                         description  \n",
       "0  SUBSCRIBE to BRAWADIS ▶ http://bit.ly/Subscrib...  "
      ]
     },
     "execution_count": 33,
     "metadata": {},
     "output_type": "execute_result"
    }
   ],
   "source": [
    "# read the files\n",
    "\n",
    "US_df = pd.read_csv('./Data/US_youtube_trending_data.csv')\n",
    "US_df.head(1)"
   ]
  },
  {
   "cell_type": "code",
   "execution_count": 34,
   "id": "ca0fc100-e3a2-4f3f-acf5-3fa67e32a2bf",
   "metadata": {},
   "outputs": [
    {
     "data": {
      "text/html": [
       "<div>\n",
       "<style scoped>\n",
       "    .dataframe tbody tr th:only-of-type {\n",
       "        vertical-align: middle;\n",
       "    }\n",
       "\n",
       "    .dataframe tbody tr th {\n",
       "        vertical-align: top;\n",
       "    }\n",
       "\n",
       "    .dataframe thead th {\n",
       "        text-align: right;\n",
       "    }\n",
       "</style>\n",
       "<table border=\"1\" class=\"dataframe\">\n",
       "  <thead>\n",
       "    <tr style=\"text-align: right;\">\n",
       "      <th></th>\n",
       "      <th>video_id</th>\n",
       "      <th>title</th>\n",
       "      <th>publishedAt</th>\n",
       "      <th>channelId</th>\n",
       "      <th>channelTitle</th>\n",
       "      <th>categoryId</th>\n",
       "      <th>trending_date</th>\n",
       "      <th>tags</th>\n",
       "      <th>view_count</th>\n",
       "      <th>likes</th>\n",
       "      <th>dislikes</th>\n",
       "      <th>comment_count</th>\n",
       "      <th>thumbnail_link</th>\n",
       "      <th>comments_disabled</th>\n",
       "      <th>ratings_disabled</th>\n",
       "      <th>description</th>\n",
       "    </tr>\n",
       "  </thead>\n",
       "  <tbody>\n",
       "    <tr>\n",
       "      <th>0</th>\n",
       "      <td>J78aPJ3VyNs</td>\n",
       "      <td>I left youtube for a month and THIS is what ha...</td>\n",
       "      <td>2020-08-11T16:34:06Z</td>\n",
       "      <td>UCYzPXprvl5Y-Sf0g4vX-m6g</td>\n",
       "      <td>jacksepticeye</td>\n",
       "      <td>24</td>\n",
       "      <td>2020-08-12T00:00:00Z</td>\n",
       "      <td>jacksepticeye|funny|funny meme|memes|jacksepti...</td>\n",
       "      <td>2038853</td>\n",
       "      <td>353790</td>\n",
       "      <td>2628</td>\n",
       "      <td>40228</td>\n",
       "      <td>https://i.ytimg.com/vi/J78aPJ3VyNs/default.jpg</td>\n",
       "      <td>False</td>\n",
       "      <td>False</td>\n",
       "      <td>I left youtube for a month and this is what ha...</td>\n",
       "    </tr>\n",
       "  </tbody>\n",
       "</table>\n",
       "</div>"
      ],
      "text/plain": [
       "      video_id                                              title  \\\n",
       "0  J78aPJ3VyNs  I left youtube for a month and THIS is what ha...   \n",
       "\n",
       "            publishedAt                 channelId   channelTitle  categoryId  \\\n",
       "0  2020-08-11T16:34:06Z  UCYzPXprvl5Y-Sf0g4vX-m6g  jacksepticeye          24   \n",
       "\n",
       "          trending_date                                               tags  \\\n",
       "0  2020-08-12T00:00:00Z  jacksepticeye|funny|funny meme|memes|jacksepti...   \n",
       "\n",
       "   view_count   likes  dislikes  comment_count  \\\n",
       "0     2038853  353790      2628          40228   \n",
       "\n",
       "                                   thumbnail_link  comments_disabled  \\\n",
       "0  https://i.ytimg.com/vi/J78aPJ3VyNs/default.jpg              False   \n",
       "\n",
       "   ratings_disabled                                        description  \n",
       "0             False  I left youtube for a month and this is what ha...  "
      ]
     },
     "execution_count": 34,
     "metadata": {},
     "output_type": "execute_result"
    }
   ],
   "source": [
    "# read the files\n",
    "\n",
    "UK_df = pd.read_csv('./Data/GB_youtube_trending_data.csv')\n",
    "UK_df.head(1)"
   ]
  },
  {
   "cell_type": "code",
   "execution_count": 35,
   "id": "005f2a27-4cb1-4b6e-b3de-24311362c967",
   "metadata": {},
   "outputs": [
    {
     "data": {
      "text/html": [
       "<div>\n",
       "<style scoped>\n",
       "    .dataframe tbody tr th:only-of-type {\n",
       "        vertical-align: middle;\n",
       "    }\n",
       "\n",
       "    .dataframe tbody tr th {\n",
       "        vertical-align: top;\n",
       "    }\n",
       "\n",
       "    .dataframe thead th {\n",
       "        text-align: right;\n",
       "    }\n",
       "</style>\n",
       "<table border=\"1\" class=\"dataframe\">\n",
       "  <thead>\n",
       "    <tr style=\"text-align: right;\">\n",
       "      <th></th>\n",
       "      <th>video_id</th>\n",
       "      <th>title</th>\n",
       "      <th>publishedAt</th>\n",
       "      <th>channelId</th>\n",
       "      <th>channelTitle</th>\n",
       "      <th>categoryId</th>\n",
       "      <th>trending_date</th>\n",
       "      <th>tags</th>\n",
       "      <th>view_count</th>\n",
       "      <th>likes</th>\n",
       "      <th>dislikes</th>\n",
       "      <th>comment_count</th>\n",
       "      <th>thumbnail_link</th>\n",
       "      <th>comments_disabled</th>\n",
       "      <th>ratings_disabled</th>\n",
       "      <th>description</th>\n",
       "    </tr>\n",
       "  </thead>\n",
       "  <tbody>\n",
       "    <tr>\n",
       "      <th>0</th>\n",
       "      <td>KX06ksuS6Xo</td>\n",
       "      <td>Diljit Dosanjh: CLASH (Official) Music Video |...</td>\n",
       "      <td>2020-08-11T07:30:02Z</td>\n",
       "      <td>UCZRdNleCgW-BGUJf-bbjzQg</td>\n",
       "      <td>Diljit Dosanjh</td>\n",
       "      <td>10</td>\n",
       "      <td>2020-08-12T00:00:00Z</td>\n",
       "      <td>clash diljit dosanjh|diljit dosanjh|diljit dos...</td>\n",
       "      <td>9140911</td>\n",
       "      <td>296541</td>\n",
       "      <td>6180</td>\n",
       "      <td>30059</td>\n",
       "      <td>https://i.ytimg.com/vi/KX06ksuS6Xo/default.jpg</td>\n",
       "      <td>False</td>\n",
       "      <td>False</td>\n",
       "      <td>CLASH official music video performed by DILJIT...</td>\n",
       "    </tr>\n",
       "  </tbody>\n",
       "</table>\n",
       "</div>"
      ],
      "text/plain": [
       "      video_id                                              title  \\\n",
       "0  KX06ksuS6Xo  Diljit Dosanjh: CLASH (Official) Music Video |...   \n",
       "\n",
       "            publishedAt                 channelId    channelTitle  categoryId  \\\n",
       "0  2020-08-11T07:30:02Z  UCZRdNleCgW-BGUJf-bbjzQg  Diljit Dosanjh          10   \n",
       "\n",
       "          trending_date                                               tags  \\\n",
       "0  2020-08-12T00:00:00Z  clash diljit dosanjh|diljit dosanjh|diljit dos...   \n",
       "\n",
       "   view_count   likes  dislikes  comment_count  \\\n",
       "0     9140911  296541      6180          30059   \n",
       "\n",
       "                                   thumbnail_link  comments_disabled  \\\n",
       "0  https://i.ytimg.com/vi/KX06ksuS6Xo/default.jpg              False   \n",
       "\n",
       "   ratings_disabled                                        description  \n",
       "0             False  CLASH official music video performed by DILJIT...  "
      ]
     },
     "execution_count": 35,
     "metadata": {},
     "output_type": "execute_result"
    }
   ],
   "source": [
    "# read the files\n",
    "\n",
    "CA_df = pd.read_csv('./Data/CA_youtube_trending_data.csv')\n",
    "CA_df.head(1)"
   ]
  },
  {
   "cell_type": "code",
   "execution_count": 36,
   "id": "d07e0671-33eb-4928-9cca-3b69cf41b24d",
   "metadata": {},
   "outputs": [
    {
     "name": "stdout",
     "output_type": "stream",
     "text": [
      "Shape of UK File: (111995, 16)\n",
      "Shape of CA File: (111944, 16)\n",
      "Shape of US File: (111991, 16)\n"
     ]
    }
   ],
   "source": [
    "# looking at the shape of the data\n",
    "\n",
    "print('Shape of UK File: '+ str(UK_df.shape))\n",
    "print('Shape of CA File: '+ str(CA_df.shape))\n",
    "print('Shape of US File: '+ str(US_df.shape))\n"
   ]
  },
  {
   "cell_type": "code",
   "execution_count": 37,
   "id": "a17e4fd9-3c68-4ad5-9af7-85a57b41315a",
   "metadata": {},
   "outputs": [],
   "source": [
    "import json #import data using python json module\n",
    "with open('./Data/CA_category_id.json','r') as f:\n",
    "    category_ca= json.loads(f.read())"
   ]
  },
  {
   "cell_type": "code",
   "execution_count": 38,
   "id": "7d6e101d-455e-40e1-adf1-5ec149a96c9a",
   "metadata": {},
   "outputs": [],
   "source": [
    "import json #import data using python json module\n",
    "with open('./Data/US_category_id.json','r') as f:\n",
    "    category_us= json.loads(f.read())"
   ]
  },
  {
   "cell_type": "code",
   "execution_count": 39,
   "id": "3ae0adec-d450-4acb-86aa-603ddf7a9d65",
   "metadata": {},
   "outputs": [],
   "source": [
    "import json #import data using python json module\n",
    "with open('./Data/GB_category_id.json','r') as f:\n",
    "    category_uk= json.loads(f.read())"
   ]
  },
  {
   "cell_type": "code",
   "execution_count": 40,
   "id": "1ecaac8f-9710-46d6-a929-58bee8ffd8aa",
   "metadata": {},
   "outputs": [],
   "source": [
    "# Read the json file into dataframe and normalise the data\n",
    "\n",
    "us_cat = pd.json_normalize(category_us,record_path='items')\n",
    "ca_cat = pd.json_normalize(category_ca,record_path='items')\n",
    "uk_cat = pd.json_normalize(category_uk,record_path='items')"
   ]
  },
  {
   "cell_type": "code",
   "execution_count": 41,
   "id": "f3a67d45-064c-4e9e-a50c-47a5f62fa84a",
   "metadata": {},
   "outputs": [],
   "source": [
    "# convert the 'id' to int type\n",
    "\n",
    "us_cat['id']= us_cat['id'].astype(int)\n",
    "ca_cat['id']= ca_cat['id'].astype(int)\n",
    "uk_cat['id']= uk_cat['id'].astype(int)\n"
   ]
  },
  {
   "cell_type": "code",
   "execution_count": 42,
   "id": "0195478b-92bf-46b4-9f56-80df5f501cf7",
   "metadata": {},
   "outputs": [],
   "source": [
    "# merging the data and category data \n",
    "\n",
    "US_df= US_df.merge(us_cat,how ='left',left_on= 'categoryId',\\\n",
    "                                 right_on='id').rename(columns= {'snippet.title':'category_name'})\n",
    "CA_df= CA_df.merge(ca_cat,how ='left',left_on= 'categoryId',\\\n",
    "                                 right_on='id').rename(columns= {'snippet.title':'category_name'})\n",
    "UK_df= UK_df.merge(uk_cat,how ='left',left_on= 'categoryId',\\\n",
    "                                 right_on='id').rename(columns= {'snippet.title':'category_name'})"
   ]
  },
  {
   "cell_type": "code",
   "execution_count": 43,
   "id": "66db0f95-9095-4e7d-8e5a-96fc16712a48",
   "metadata": {},
   "outputs": [
    {
     "name": "stdout",
     "output_type": "stream",
     "text": [
      "Shape of UK File: (111995, 22)\n",
      "Shape of CA File: (111944, 22)\n",
      "Shape of US File: (111991, 22)\n"
     ]
    }
   ],
   "source": [
    "# shape of data after merging\n",
    "\n",
    "print('Shape of UK File: '+ str(UK_df.shape))\n",
    "print('Shape of CA File: '+ str(CA_df.shape))\n",
    "print('Shape of US File: '+ str(US_df.shape))"
   ]
  },
  {
   "cell_type": "code",
   "execution_count": 44,
   "id": "9c8f3b44-459b-4716-9c24-b9485834dec9",
   "metadata": {},
   "outputs": [],
   "source": [
    "# adding \"country\" to specify the location\n",
    "\n",
    "US_df['country']= 'usa'\n",
    "CA_df['country']= 'canada'\n",
    "UK_df['country']= 'united kingdom'"
   ]
  },
  {
   "cell_type": "code",
   "execution_count": 45,
   "id": "2244f567-26f7-4aa4-ab77-a86aecaa07a5",
   "metadata": {},
   "outputs": [
    {
     "data": {
      "text/html": [
       "<div>\n",
       "<style scoped>\n",
       "    .dataframe tbody tr th:only-of-type {\n",
       "        vertical-align: middle;\n",
       "    }\n",
       "\n",
       "    .dataframe tbody tr th {\n",
       "        vertical-align: top;\n",
       "    }\n",
       "\n",
       "    .dataframe thead th {\n",
       "        text-align: right;\n",
       "    }\n",
       "</style>\n",
       "<table border=\"1\" class=\"dataframe\">\n",
       "  <thead>\n",
       "    <tr style=\"text-align: right;\">\n",
       "      <th></th>\n",
       "      <th>video_id</th>\n",
       "      <th>title</th>\n",
       "      <th>publishedAt</th>\n",
       "      <th>channelId</th>\n",
       "      <th>channelTitle</th>\n",
       "      <th>categoryId</th>\n",
       "      <th>trending_date</th>\n",
       "      <th>tags</th>\n",
       "      <th>view_count</th>\n",
       "      <th>likes</th>\n",
       "      <th>...</th>\n",
       "      <th>comments_disabled</th>\n",
       "      <th>ratings_disabled</th>\n",
       "      <th>description</th>\n",
       "      <th>kind</th>\n",
       "      <th>etag</th>\n",
       "      <th>id</th>\n",
       "      <th>category_name</th>\n",
       "      <th>snippet.assignable</th>\n",
       "      <th>snippet.channelId</th>\n",
       "      <th>country</th>\n",
       "    </tr>\n",
       "  </thead>\n",
       "  <tbody>\n",
       "    <tr>\n",
       "      <th>0</th>\n",
       "      <td>3C66w5Z0ixs</td>\n",
       "      <td>I ASKED HER TO BE MY GIRLFRIEND...</td>\n",
       "      <td>2020-08-11T19:20:14Z</td>\n",
       "      <td>UCvtRTOMP2TqYqu51xNrqAzg</td>\n",
       "      <td>Brawadis</td>\n",
       "      <td>22</td>\n",
       "      <td>2020-08-12T00:00:00Z</td>\n",
       "      <td>brawadis|prank|basketball|skits|ghost|funny vi...</td>\n",
       "      <td>1514614</td>\n",
       "      <td>156908</td>\n",
       "      <td>...</td>\n",
       "      <td>False</td>\n",
       "      <td>False</td>\n",
       "      <td>SUBSCRIBE to BRAWADIS ▶ http://bit.ly/Subscrib...</td>\n",
       "      <td>youtube#videoCategory</td>\n",
       "      <td>QMEBz6mxVdklVaq8JwesPEw_4nI</td>\n",
       "      <td>22</td>\n",
       "      <td>People &amp; Blogs</td>\n",
       "      <td>True</td>\n",
       "      <td>UCBR8-60-B28hp2BmDPdntcQ</td>\n",
       "      <td>usa</td>\n",
       "    </tr>\n",
       "  </tbody>\n",
       "</table>\n",
       "<p>1 rows × 23 columns</p>\n",
       "</div>"
      ],
      "text/plain": [
       "      video_id                               title           publishedAt  \\\n",
       "0  3C66w5Z0ixs  I ASKED HER TO BE MY GIRLFRIEND...  2020-08-11T19:20:14Z   \n",
       "\n",
       "                  channelId channelTitle  categoryId         trending_date  \\\n",
       "0  UCvtRTOMP2TqYqu51xNrqAzg     Brawadis          22  2020-08-12T00:00:00Z   \n",
       "\n",
       "                                                tags  view_count   likes  ...  \\\n",
       "0  brawadis|prank|basketball|skits|ghost|funny vi...     1514614  156908  ...   \n",
       "\n",
       "   comments_disabled  ratings_disabled  \\\n",
       "0              False             False   \n",
       "\n",
       "                                         description                   kind  \\\n",
       "0  SUBSCRIBE to BRAWADIS ▶ http://bit.ly/Subscrib...  youtube#videoCategory   \n",
       "\n",
       "                          etag  id   category_name snippet.assignable  \\\n",
       "0  QMEBz6mxVdklVaq8JwesPEw_4nI  22  People & Blogs               True   \n",
       "\n",
       "          snippet.channelId country  \n",
       "0  UCBR8-60-B28hp2BmDPdntcQ     usa  \n",
       "\n",
       "[1 rows x 23 columns]"
      ]
     },
     "execution_count": 45,
     "metadata": {},
     "output_type": "execute_result"
    }
   ],
   "source": [
    "US_df.head(1)"
   ]
  },
  {
   "cell_type": "code",
   "execution_count": 46,
   "id": "8d6523a5-1d14-4983-bd2e-ce258c947606",
   "metadata": {},
   "outputs": [
    {
     "data": {
      "text/plain": [
       "(335930, 23)"
      ]
     },
     "execution_count": 46,
     "metadata": {},
     "output_type": "execute_result"
    }
   ],
   "source": [
    "# concate the 3 files\n",
    "\n",
    "df_list= [US_df,CA_df,UK_df]\n",
    "df= pd.concat(df_list).reset_index(drop=True)\n",
    "df.shape"
   ]
  },
  {
   "cell_type": "markdown",
   "id": "8dc2f507-585f-473f-a2ea-f4b8ed8e3efd",
   "metadata": {},
   "source": [
    "#### 4. Data preprocessing"
   ]
  },
  {
   "cell_type": "code",
   "execution_count": 47,
   "id": "a939d641-e9aa-4909-87e7-424647ad5197",
   "metadata": {},
   "outputs": [],
   "source": [
    "# Drop unused column\n",
    "df.drop(columns=['thumbnail_link','kind','etag','id','snippet.assignable','snippet.channelId','channelId'], axis='columns',inplace=True)"
   ]
  },
  {
   "cell_type": "code",
   "execution_count": 48,
   "id": "02ce7c26-1e20-4aa7-bf6b-d7c2f7d3b28e",
   "metadata": {},
   "outputs": [
    {
     "data": {
      "text/plain": [
       "(335930, 16)"
      ]
     },
     "execution_count": 48,
     "metadata": {},
     "output_type": "execute_result"
    }
   ],
   "source": [
    "df.shape"
   ]
  },
  {
   "cell_type": "code",
   "execution_count": 49,
   "id": "33a8ac4b-468f-4836-af64-8ba560aae16d",
   "metadata": {},
   "outputs": [
    {
     "data": {
      "text/plain": [
       "video_id             object\n",
       "title                object\n",
       "publishedAt          object\n",
       "channelTitle         object\n",
       "categoryId            int64\n",
       "trending_date        object\n",
       "tags                 object\n",
       "view_count            int64\n",
       "likes                 int64\n",
       "dislikes              int64\n",
       "comment_count         int64\n",
       "comments_disabled      bool\n",
       "ratings_disabled       bool\n",
       "description          object\n",
       "category_name        object\n",
       "country              object\n",
       "dtype: object"
      ]
     },
     "execution_count": 49,
     "metadata": {},
     "output_type": "execute_result"
    }
   ],
   "source": [
    "df.dtypes"
   ]
  },
  {
   "cell_type": "code",
   "execution_count": 50,
   "id": "5b651dd4-b653-4857-b1a1-7aa257fa3a3c",
   "metadata": {},
   "outputs": [
    {
     "data": {
      "text/plain": [
       "video_id                0\n",
       "title                   0\n",
       "publishedAt             0\n",
       "channelTitle            0\n",
       "categoryId              0\n",
       "trending_date           0\n",
       "tags                    0\n",
       "view_count              0\n",
       "likes                   0\n",
       "dislikes                0\n",
       "comment_count           0\n",
       "comments_disabled       0\n",
       "ratings_disabled        0\n",
       "description          8259\n",
       "category_name         173\n",
       "country                 0\n",
       "dtype: int64"
      ]
     },
     "execution_count": 50,
     "metadata": {},
     "output_type": "execute_result"
    }
   ],
   "source": [
    "# check for null value\n",
    "\n",
    "df.isna().sum()"
   ]
  },
  {
   "cell_type": "code",
   "execution_count": 51,
   "id": "d26a5938-45d8-41d8-8698-8feb3a03bbbd",
   "metadata": {},
   "outputs": [],
   "source": [
    "# Dealing with null value in `description`, fill up the description with title\n",
    "\n",
    "df.description = np.where(df.description.isnull(), df.title, df.description)\n"
   ]
  },
  {
   "cell_type": "code",
   "execution_count": 52,
   "id": "46fceee4-b3ae-47c9-9d55-fcc90cfde055",
   "metadata": {},
   "outputs": [
    {
     "data": {
      "text/plain": [
       "24    71463\n",
       "20    56930\n",
       "10    48106\n",
       "17    44646\n",
       "22    31302\n",
       "23    19447\n",
       "28    12132\n",
       "1     11180\n",
       "25    10756\n",
       "26    10699\n",
       "27     8473\n",
       "2      6763\n",
       "19     2021\n",
       "15     1751\n",
       "29      261\n",
       "Name: categoryId, dtype: int64"
      ]
     },
     "execution_count": 52,
     "metadata": {},
     "output_type": "execute_result"
    }
   ],
   "source": [
    "# see the list of category ID\n",
    "df['categoryId'].value_counts()"
   ]
  },
  {
   "cell_type": "code",
   "execution_count": 53,
   "id": "a74a087f-8f99-4408-b201-4e290915e305",
   "metadata": {},
   "outputs": [
    {
     "data": {
      "text/plain": [
       "Entertainment            71463\n",
       "Gaming                   56930\n",
       "Music                    48106\n",
       "Sports                   44646\n",
       "People & Blogs           31302\n",
       "Comedy                   19447\n",
       "Science & Technology     12132\n",
       "Film & Animation         11180\n",
       "News & Politics          10756\n",
       "Howto & Style            10699\n",
       "Education                 8473\n",
       "Autos & Vehicles          6763\n",
       "Travel & Events           2021\n",
       "Pets & Animals            1751\n",
       "Nonprofits & Activism       88\n",
       "Name: category_name, dtype: int64"
      ]
     },
     "execution_count": 53,
     "metadata": {},
     "output_type": "execute_result"
    }
   ],
   "source": [
    "df['category_name'].value_counts()"
   ]
  },
  {
   "cell_type": "code",
   "execution_count": 54,
   "id": "9589502e-6aea-4960-831b-b50c61453dc6",
   "metadata": {},
   "outputs": [],
   "source": [
    "# Dealing with the null calue in category_name with `Nonprofits & Activism`\n",
    "\n",
    "df.category_name.fillna('Nonprofits & Activism').isna().any()\n",
    "df.category_name.fillna('Nonprofits & Activism',inplace=True)"
   ]
  },
  {
   "cell_type": "code",
   "execution_count": 55,
   "id": "a848db3e-8243-4038-84c0-743a37b89e68",
   "metadata": {},
   "outputs": [
    {
     "data": {
      "text/plain": [
       "categoryId  category_name        \n",
       "1           Film & Animation         11180\n",
       "2           Autos & Vehicles          6763\n",
       "10          Music                    48106\n",
       "15          Pets & Animals            1751\n",
       "17          Sports                   44646\n",
       "19          Travel & Events           2021\n",
       "20          Gaming                   56930\n",
       "22          People & Blogs           31302\n",
       "23          Comedy                   19447\n",
       "24          Entertainment            71463\n",
       "25          News & Politics          10756\n",
       "26          Howto & Style            10699\n",
       "27          Education                 8473\n",
       "28          Science & Technology     12132\n",
       "29          Nonprofits & Activism      261\n",
       "dtype: int64"
      ]
     },
     "execution_count": 55,
     "metadata": {},
     "output_type": "execute_result"
    }
   ],
   "source": [
    "df.groupby(['categoryId', 'category_name']).size()"
   ]
  },
  {
   "cell_type": "code",
   "execution_count": 56,
   "id": "fb3935a7-1bdb-4291-87f5-06b98a950392",
   "metadata": {},
   "outputs": [
    {
     "name": "stdout",
     "output_type": "stream",
     "text": [
      "Youtube start date: 2020-08-12\n",
      "Youtube end date: 2022-02-18\n"
     ]
    }
   ],
   "source": [
    "# Convert Unix Timestamp to Datetime\n",
    "df['trending_date'] = pd.to_datetime(df['trending_date']).dt.date\n",
    "\n",
    "\n",
    "# Show date-range of data\n",
    "print(\"Youtube start date:\", df['trending_date'].min())\n",
    "print(\"Youtube end date:\", df['trending_date'].max())\n"
   ]
  },
  {
   "cell_type": "code",
   "execution_count": 57,
   "id": "d776528b-03bf-4cd2-b843-f42b83a0f4fb",
   "metadata": {},
   "outputs": [
    {
     "name": "stdout",
     "output_type": "stream",
     "text": [
      "Youtube start date: 2020-07-27\n",
      "Youtube end date: 2022-02-17\n"
     ]
    }
   ],
   "source": [
    "# Convert Unix Timestamp to Datetime\n",
    "df['publishedAt'] = pd.to_datetime(df['publishedAt']).dt.date\n",
    "\n",
    "\n",
    "# Show date-range of data\n",
    "print(\"Youtube start date:\", df['publishedAt'].min())\n",
    "print(\"Youtube end date:\", df['publishedAt'].max())"
   ]
  },
  {
   "cell_type": "code",
   "execution_count": 58,
   "id": "9c6c5fbe-abff-4817-a02f-23f3b2a2907a",
   "metadata": {},
   "outputs": [],
   "source": [
    "# drop duplicated `video_id`\n",
    "\n",
    "df.drop_duplicates(subset=['video_id'], inplace=True)"
   ]
  },
  {
   "cell_type": "code",
   "execution_count": 59,
   "id": "34f02e27-fe66-4ca6-8b7f-74d19677538e",
   "metadata": {},
   "outputs": [
    {
     "data": {
      "text/plain": [
       "(36355, 16)"
      ]
     },
     "execution_count": 59,
     "metadata": {},
     "output_type": "execute_result"
    }
   ],
   "source": [
    "df.shape"
   ]
  },
  {
   "cell_type": "code",
   "execution_count": 60,
   "id": "79b50cd5-a916-49b2-a327-71e399a5a275",
   "metadata": {
    "scrolled": true,
    "tags": []
   },
   "outputs": [
    {
     "data": {
      "text/html": [
       "<div>\n",
       "<style scoped>\n",
       "    .dataframe tbody tr th:only-of-type {\n",
       "        vertical-align: middle;\n",
       "    }\n",
       "\n",
       "    .dataframe tbody tr th {\n",
       "        vertical-align: top;\n",
       "    }\n",
       "\n",
       "    .dataframe thead th {\n",
       "        text-align: right;\n",
       "    }\n",
       "</style>\n",
       "<table border=\"1\" class=\"dataframe\">\n",
       "  <thead>\n",
       "    <tr style=\"text-align: right;\">\n",
       "      <th></th>\n",
       "      <th>video_id</th>\n",
       "      <th>title</th>\n",
       "      <th>publishedAt</th>\n",
       "      <th>channelTitle</th>\n",
       "      <th>categoryId</th>\n",
       "      <th>trending_date</th>\n",
       "      <th>tags</th>\n",
       "      <th>view_count</th>\n",
       "      <th>likes</th>\n",
       "      <th>dislikes</th>\n",
       "      <th>comment_count</th>\n",
       "      <th>comments_disabled</th>\n",
       "      <th>ratings_disabled</th>\n",
       "      <th>description</th>\n",
       "      <th>category_name</th>\n",
       "      <th>country</th>\n",
       "      <th>clean_text</th>\n",
       "    </tr>\n",
       "  </thead>\n",
       "  <tbody>\n",
       "    <tr>\n",
       "      <th>0</th>\n",
       "      <td>3C66w5Z0ixs</td>\n",
       "      <td>I ASKED HER TO BE MY GIRLFRIEND...</td>\n",
       "      <td>2020-08-11</td>\n",
       "      <td>Brawadis</td>\n",
       "      <td>22</td>\n",
       "      <td>2020-08-12</td>\n",
       "      <td>brawadis|prank|basketball|skits|ghost|funny vi...</td>\n",
       "      <td>1514614</td>\n",
       "      <td>156908</td>\n",
       "      <td>5855</td>\n",
       "      <td>35313</td>\n",
       "      <td>False</td>\n",
       "      <td>False</td>\n",
       "      <td>SUBSCRIBE to BRAWADIS ▶ http://bit.ly/Subscrib...</td>\n",
       "      <td>People &amp; Blogs</td>\n",
       "      <td>usa</td>\n",
       "      <td>asked girlfriend</td>\n",
       "    </tr>\n",
       "    <tr>\n",
       "      <th>1</th>\n",
       "      <td>M9Pmf9AB4Mo</td>\n",
       "      <td>Apex Legends | Stories from the Outlands – “Th...</td>\n",
       "      <td>2020-08-11</td>\n",
       "      <td>Apex Legends</td>\n",
       "      <td>20</td>\n",
       "      <td>2020-08-12</td>\n",
       "      <td>Apex Legends|Apex Legends characters|new Apex ...</td>\n",
       "      <td>2381688</td>\n",
       "      <td>146739</td>\n",
       "      <td>2794</td>\n",
       "      <td>16549</td>\n",
       "      <td>False</td>\n",
       "      <td>False</td>\n",
       "      <td>While running her own modding shop, Ramya Pare...</td>\n",
       "      <td>Gaming</td>\n",
       "      <td>usa</td>\n",
       "      <td>apex legends stories outlands endorsement</td>\n",
       "    </tr>\n",
       "    <tr>\n",
       "      <th>2</th>\n",
       "      <td>J78aPJ3VyNs</td>\n",
       "      <td>I left youtube for a month and THIS is what ha...</td>\n",
       "      <td>2020-08-11</td>\n",
       "      <td>jacksepticeye</td>\n",
       "      <td>24</td>\n",
       "      <td>2020-08-12</td>\n",
       "      <td>jacksepticeye|funny|funny meme|memes|jacksepti...</td>\n",
       "      <td>2038853</td>\n",
       "      <td>353787</td>\n",
       "      <td>2628</td>\n",
       "      <td>40221</td>\n",
       "      <td>False</td>\n",
       "      <td>False</td>\n",
       "      <td>I left youtube for a month and this is what ha...</td>\n",
       "      <td>Entertainment</td>\n",
       "      <td>usa</td>\n",
       "      <td>left youtube month happened</td>\n",
       "    </tr>\n",
       "    <tr>\n",
       "      <th>3</th>\n",
       "      <td>kXLn3HkpjaA</td>\n",
       "      <td>XXL 2020 Freshman Class Revealed - Official An...</td>\n",
       "      <td>2020-08-11</td>\n",
       "      <td>XXL</td>\n",
       "      <td>10</td>\n",
       "      <td>2020-08-12</td>\n",
       "      <td>xxl freshman|xxl freshmen|2020 xxl freshman|20...</td>\n",
       "      <td>496771</td>\n",
       "      <td>23251</td>\n",
       "      <td>1856</td>\n",
       "      <td>7647</td>\n",
       "      <td>False</td>\n",
       "      <td>False</td>\n",
       "      <td>Subscribe to XXL → http://bit.ly/subscribe-xxl...</td>\n",
       "      <td>Music</td>\n",
       "      <td>usa</td>\n",
       "      <td>xxl freshman class revealed official announcement</td>\n",
       "    </tr>\n",
       "    <tr>\n",
       "      <th>4</th>\n",
       "      <td>VIUo6yapDbc</td>\n",
       "      <td>Ultimate DIY Home Movie Theater for The LaBran...</td>\n",
       "      <td>2020-08-11</td>\n",
       "      <td>Mr. Kate</td>\n",
       "      <td>26</td>\n",
       "      <td>2020-08-12</td>\n",
       "      <td>The LaBrant Family|DIY|Interior Design|Makeove...</td>\n",
       "      <td>1123889</td>\n",
       "      <td>45802</td>\n",
       "      <td>964</td>\n",
       "      <td>2196</td>\n",
       "      <td>False</td>\n",
       "      <td>False</td>\n",
       "      <td>Transforming The LaBrant Family's empty white ...</td>\n",
       "      <td>Howto &amp; Style</td>\n",
       "      <td>usa</td>\n",
       "      <td>ultimate diy home movie theater labrant family</td>\n",
       "    </tr>\n",
       "  </tbody>\n",
       "</table>\n",
       "</div>"
      ],
      "text/plain": [
       "      video_id                                              title publishedAt  \\\n",
       "0  3C66w5Z0ixs                 I ASKED HER TO BE MY GIRLFRIEND...  2020-08-11   \n",
       "1  M9Pmf9AB4Mo  Apex Legends | Stories from the Outlands – “Th...  2020-08-11   \n",
       "2  J78aPJ3VyNs  I left youtube for a month and THIS is what ha...  2020-08-11   \n",
       "3  kXLn3HkpjaA  XXL 2020 Freshman Class Revealed - Official An...  2020-08-11   \n",
       "4  VIUo6yapDbc  Ultimate DIY Home Movie Theater for The LaBran...  2020-08-11   \n",
       "\n",
       "    channelTitle  categoryId trending_date  \\\n",
       "0       Brawadis          22    2020-08-12   \n",
       "1   Apex Legends          20    2020-08-12   \n",
       "2  jacksepticeye          24    2020-08-12   \n",
       "3            XXL          10    2020-08-12   \n",
       "4       Mr. Kate          26    2020-08-12   \n",
       "\n",
       "                                                tags  view_count   likes  \\\n",
       "0  brawadis|prank|basketball|skits|ghost|funny vi...     1514614  156908   \n",
       "1  Apex Legends|Apex Legends characters|new Apex ...     2381688  146739   \n",
       "2  jacksepticeye|funny|funny meme|memes|jacksepti...     2038853  353787   \n",
       "3  xxl freshman|xxl freshmen|2020 xxl freshman|20...      496771   23251   \n",
       "4  The LaBrant Family|DIY|Interior Design|Makeove...     1123889   45802   \n",
       "\n",
       "   dislikes  comment_count  comments_disabled  ratings_disabled  \\\n",
       "0      5855          35313              False             False   \n",
       "1      2794          16549              False             False   \n",
       "2      2628          40221              False             False   \n",
       "3      1856           7647              False             False   \n",
       "4       964           2196              False             False   \n",
       "\n",
       "                                         description   category_name country  \\\n",
       "0  SUBSCRIBE to BRAWADIS ▶ http://bit.ly/Subscrib...  People & Blogs     usa   \n",
       "1  While running her own modding shop, Ramya Pare...          Gaming     usa   \n",
       "2  I left youtube for a month and this is what ha...   Entertainment     usa   \n",
       "3  Subscribe to XXL → http://bit.ly/subscribe-xxl...           Music     usa   \n",
       "4  Transforming The LaBrant Family's empty white ...   Howto & Style     usa   \n",
       "\n",
       "                                          clean_text  \n",
       "0                                   asked girlfriend  \n",
       "1          apex legends stories outlands endorsement  \n",
       "2                        left youtube month happened  \n",
       "3  xxl freshman class revealed official announcement  \n",
       "4     ultimate diy home movie theater labrant family  "
      ]
     },
     "execution_count": 60,
     "metadata": {},
     "output_type": "execute_result"
    }
   ],
   "source": [
    "# clean text\n",
    "import re\n",
    "from nltk.corpus import stopwords\n",
    "REPLACE_BY_SPACE_RE = re.compile('[/(){}\\[\\]\\|@,;]')\n",
    "BAD_SYMBOLS_RE = re.compile('[^0-9a-z #+_]')\n",
    "STOPWORDS = set(stopwords.words('english'))\n",
    "def clean_text(text):\n",
    "    \"\"\"\n",
    "        text: a string\n",
    "        \n",
    "        return: modified string\n",
    "    \"\"\"\n",
    "    text = str(text).lower() # lowercase text\n",
    "    text = REPLACE_BY_SPACE_RE.sub(' ', text) # replace REPLACE_BY_SPACE_RE symbols by space in text\n",
    "    text = BAD_SYMBOLS_RE.sub('', text) # delete symbols which are in BAD_SYMBOLS_RE from text\n",
    "    text = re.sub(\" \\d+\", \" \", text) # remove digits\n",
    "    text = re.sub(\" #\\d+\", \" \", text) # remove digits starting with # symbol\n",
    "    text = ' '.join(word for word in text.split() if word not in STOPWORDS) # delete stopwors from text\n",
    "    return text\n",
    "df['clean_text'] = df['title'].apply(clean_text)\n",
    "df.head()"
   ]
  },
  {
   "cell_type": "code",
   "execution_count": 61,
   "id": "edf39cce-29dd-41fa-9ced-a81855721014",
   "metadata": {},
   "outputs": [],
   "source": [
    "# Convert the data to csv\n",
    "\n",
    "df.to_csv('./Data/df_clean.csv', index=False)"
   ]
  },
  {
   "cell_type": "code",
   "execution_count": null,
   "id": "d018aee9-51e1-471d-86c0-4ed24d77ba40",
   "metadata": {},
   "outputs": [],
   "source": []
  },
  {
   "cell_type": "code",
   "execution_count": null,
   "id": "cf713319-885d-4e4c-bda5-75f5f28945cf",
   "metadata": {},
   "outputs": [],
   "source": []
  }
 ],
 "metadata": {
  "kernelspec": {
   "display_name": "Python 3",
   "language": "python",
   "name": "python3"
  },
  "language_info": {
   "codemirror_mode": {
    "name": "ipython",
    "version": 3
   },
   "file_extension": ".py",
   "mimetype": "text/x-python",
   "name": "python",
   "nbconvert_exporter": "python",
   "pygments_lexer": "ipython3",
   "version": "3.8.8"
  }
 },
 "nbformat": 4,
 "nbformat_minor": 5
}
